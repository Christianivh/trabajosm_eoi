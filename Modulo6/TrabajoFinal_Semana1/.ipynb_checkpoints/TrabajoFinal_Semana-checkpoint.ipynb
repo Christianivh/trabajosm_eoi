{
 "cells": [
  {
   "cell_type": "markdown",
   "metadata": {},
   "source": [
    "# Trabajo Final de la Semana 1\n",
    "\n",
    "\n"
   ]
  },
  {
   "cell_type": "markdown",
   "metadata": {},
   "source": [
    "## Actividad 1\n",
    "## Resolución"
   ]
  },
  {
   "cell_type": "markdown",
   "metadata": {},
   "source": [
    "\n",
    "### 1: Utilizar el dataset Iris que se puede cargar automáticamente con la biblioteca sklearn.datasets"
   ]
  },
  {
   "cell_type": "code",
   "execution_count": 2,
   "metadata": {},
   "outputs": [
    {
     "name": "stdout",
     "output_type": "stream",
     "text": [
      "(150, 4) (150,)\n"
     ]
    }
   ],
   "source": [
    "import sklearn\n",
    "from sklearn.datasets import load_iris\n",
    "iris = load_iris()\n",
    "X = iris.data\n",
    "Y = iris.target\n",
    "print (X.shape, Y.shape)\n",
    "\n",
    "labels = [\"Setosa\",\"Versicolour\", \"Virginica\"]\n",
    "colors = [\"red\",\"blue\",\"green\"]"
   ]
  },
  {
   "cell_type": "code",
   "execution_count": 3,
   "metadata": {
    "collapsed": true
   },
   "outputs": [],
   "source": [
    "import matplotlib.pyplot as plt\n",
    "%matplotlib inline\n",
    "#Función de utilidad para dibujar subclases\n",
    "def plot_scatter_classes(X, Y, labels, colors):\n",
    "    C = []\n",
    "    for label in labels:\n",
    "        selection = Y==label\n",
    "        C.append(X[selection])\n",
    "    for idx, subset in enumerate(C):\n",
    "        plt.scatter(subset[:,0], subset[:,1], color=colors[idx], label=labels[idx])\n",
    "    plt.legend()"
   ]
  },
  {
   "cell_type": "code",
   "execution_count": 4,
   "metadata": {},
   "outputs": [
    {
     "data": {
      "image/png": "[encoded data removed]",
      "text/plain": [
       "<matplotlib.figure.Figure at 0x2d0a7c42fd0>"
      ]
     },
     "metadata": {},
     "output_type": "display_data"
    }
   ],
   "source": [
    "plot_scatter_classes(X, Y, [0,1,2], colors)"
   ]
  },
  {
   "cell_type": "markdown",
   "metadata": {},
   "source": [
    "## 2: Utilizar varias configuraciones (al menos tres) del clasificador SVC, evaluarlas y compararlas sin hacer validación cruzada."
   ]
  },
  {
   "cell_type": "markdown",
   "metadata": {},
   "source": [
    "Vamos a utilizar tres tipos de kernel del clasificador SVC: \n",
    "- Linear\n",
    "- Rbf\n",
    "- Polynomial"
   ]
  },
  {
   "cell_type": "markdown",
   "metadata": {},
   "source": [
    "___Linear:___\n",
    "\n",
    "Para este modelo vamos a cargar el modelo, entrenar con todo su set de datos y testearlo con lo mismo."
   ]
  },
  {
   "cell_type": "code",
   "execution_count": 5,
   "metadata": {
    "collapsed": true
   },
   "outputs": [],
   "source": [
    "#importando el modelo\n",
    "from sklearn.svm import SVC\n",
    "#instanciando el modelo\n",
    "model =SVC(kernel=\"linear\")\n",
    "#entrenando el modelo\n",
    "predict_svc = model.fit(X,Y);\n",
    "#realizando la prediccion\n",
    "y_predict  =  predict_svc.predict(X)"
   ]
  },
  {
   "cell_type": "markdown",
   "metadata": {},
   "source": [
    "Evaluo el modelo, para esto utilizamos el objeto de metricas para evaluar distintas metricas de nuestro modelo."
   ]
  },
  {
   "cell_type": "code",
   "execution_count": 6,
   "metadata": {
    "collapsed": true
   },
   "outputs": [],
   "source": [
    "from sklearn.metrics import confusion_matrix, accuracy_score, precision_score, recall_score"
   ]
  },
  {
   "cell_type": "code",
   "execution_count": 7,
   "metadata": {},
   "outputs": [
    {
     "data": {
      "text/plain": [
       "array([[50,  0,  0],\n",
       "       [ 0, 49,  1],\n",
       "       [ 0,  0, 50]], dtype=int64)"
      ]
     },
     "execution_count": 7,
     "metadata": {},
     "output_type": "execute_result"
    }
   ],
   "source": [
    "#Matriz de confusion\n",
    "confusion_matrix(y_true= Y, y_pred= y_predict)"
   ]
  },
  {
   "cell_type": "code",
   "execution_count": 8,
   "metadata": {},
   "outputs": [
    {
     "name": "stdout",
     "output_type": "stream",
     "text": [
      "Score del modelo:  0.993333333333\n",
      "Accuracy del modelo:  0.993333333333\n"
     ]
    }
   ],
   "source": [
    "print(\"Score del modelo: \", model.score(X, Y))\n",
    "print(\"Accuracy del modelo: \", accuracy_score(y_true= Y, y_pred= y_predict))"
   ]
  },
  {
   "cell_type": "markdown",
   "metadata": {},
   "source": [
    "___RBF:___\n",
    "\n",
    "Para este modelo con la configuración RBF vamos a entrenar y testearlo el modelo con todo su set de datos."
   ]
  },
  {
   "cell_type": "code",
   "execution_count": 9,
   "metadata": {
    "collapsed": true
   },
   "outputs": [],
   "source": [
    "#importando el modelo\n",
    "from sklearn.svm import SVC\n",
    "#instanciando el modelo  , rbf es el valor por defecto del SVC\n",
    "model =SVC(kernel=\"rbf\", gamma=0.7)\n",
    "#entrenando el modelo\n",
    "predict_svc = model.fit(X,Y);\n",
    "#realizando la prediccion\n",
    "y_predict  =  predict_svc.predict(X)"
   ]
  },
  {
   "cell_type": "code",
   "execution_count": 10,
   "metadata": {
    "collapsed": true
   },
   "outputs": [],
   "source": [
    "from sklearn.metrics import confusion_matrix, accuracy_score, precision_score, recall_score"
   ]
  },
  {
   "cell_type": "code",
   "execution_count": 11,
   "metadata": {},
   "outputs": [
    {
     "data": {
      "text/plain": [
       "array([[50,  0,  0],\n",
       "       [ 0, 47,  3],\n",
       "       [ 0,  0, 50]], dtype=int64)"
      ]
     },
     "execution_count": 11,
     "metadata": {},
     "output_type": "execute_result"
    }
   ],
   "source": [
    "confusion_matrix(y_true= Y, y_pred= y_predict)"
   ]
  },
  {
   "cell_type": "code",
   "execution_count": 12,
   "metadata": {},
   "outputs": [
    {
     "name": "stdout",
     "output_type": "stream",
     "text": [
      "Score del modelo:  0.98\n",
      "Accuracy del modelo:  0.98\n"
     ]
    }
   ],
   "source": [
    "print(\"Score del modelo: \",model.score(X, Y))\n",
    "print(\"Accuracy del modelo: \", accuracy_score(y_true= Y, y_pred= y_predict))"
   ]
  },
  {
   "cell_type": "markdown",
   "metadata": {},
   "source": [
    "___POLY:___\n",
    "\n",
    "Para este modelo con la configuración Poly vamos a entrenar y testearlo el modelo con todo su set de datos."
   ]
  },
  {
   "cell_type": "code",
   "execution_count": 13,
   "metadata": {
    "collapsed": true
   },
   "outputs": [],
   "source": [
    "#importando el modelo\n",
    "from sklearn.svm import SVC\n",
    "#instanciando el modelo\n",
    "model =SVC(kernel=\"poly\", degree=3)\n",
    "#entrenando el modelo\n",
    "predict_svc = model.fit(X,Y);\n",
    "#realizando la prediccion\n",
    "y_predict  =  predict_svc.predict(X)"
   ]
  },
  {
   "cell_type": "code",
   "execution_count": 14,
   "metadata": {
    "collapsed": true
   },
   "outputs": [],
   "source": [
    "from sklearn.metrics import confusion_matrix, accuracy_score, precision_score, recall_score"
   ]
  },
  {
   "cell_type": "code",
   "execution_count": 15,
   "metadata": {},
   "outputs": [
    {
     "data": {
      "text/plain": [
       "array([[50,  0,  0],\n",
       "       [ 0, 48,  2],\n",
       "       [ 0,  1, 49]], dtype=int64)"
      ]
     },
     "execution_count": 15,
     "metadata": {},
     "output_type": "execute_result"
    }
   ],
   "source": [
    "confusion_matrix(y_true= Y, y_pred= y_predict)"
   ]
  },
  {
   "cell_type": "code",
   "execution_count": 16,
   "metadata": {},
   "outputs": [
    {
     "name": "stdout",
     "output_type": "stream",
     "text": [
      "Score del modelo:  0.98\n",
      "Accuracy del modelo:  0.98\n"
     ]
    }
   ],
   "source": [
    "print(\"Score del modelo: \",model.score(X, Y))\n",
    "print(\"Accuracy del modelo: \", accuracy_score(y_true= Y, y_pred= y_predict))"
   ]
  },
  {
   "cell_type": "markdown",
   "metadata": {},
   "source": [
    "## 3:  Tomar las configuraciones elegidas anteriormente y volver a entrenarlas y evaluarlas utilizando validación cruzada."
   ]
  },
  {
   "cell_type": "markdown",
   "metadata": {},
   "source": [
    "vamos a segmentar nuestra data, para poder sacar una data de muestra, y sobre dataset testearla."
   ]
  },
  {
   "cell_type": "code",
   "execution_count": 17,
   "metadata": {
    "collapsed": true
   },
   "outputs": [],
   "source": [
    "#from sklearn import cross_validation\n",
    "#X_train, X_test, y_train, y_test = cross_validation.train_test_split(X, Y, test_size=0.3, random_state=0)\n",
    "# cambio de libreria cross_validation por model_selection, debido a que se dejara de usar\n",
    "from sklearn import model_selection\n",
    "X_train, X_test, y_train, y_test = model_selection .train_test_split(X, Y, test_size=0.35, random_state=0)"
   ]
  },
  {
   "cell_type": "code",
   "execution_count": 18,
   "metadata": {},
   "outputs": [
    {
     "data": {
      "image/png": "[encoded data removed]",
      "text/plain": [
       "<matplotlib.figure.Figure at 0x2d0a7c42b38>"
      ]
     },
     "metadata": {},
     "output_type": "display_data"
    }
   ],
   "source": [
    "#pintamos la distribucion del dataset de test, para validar que no existan posibles problemas\n",
    "plot_scatter_classes(X_test, y_test, [0,1,2], [\"red\", \"blue\", \"green\"])"
   ]
  },
  {
   "cell_type": "code",
   "execution_count": 19,
   "metadata": {
    "collapsed": true
   },
   "outputs": [],
   "source": [
    "#importando el modelo\n",
    "from sklearn.svm import SVC\n",
    "#instanciando el modelo\n",
    "model_linear =SVC(kernel=\"linear\")\n",
    "model_rbf =SVC(kernel=\"rbf\", gamma=0.7)\n",
    "model_poly =SVC(kernel=\"poly\", degree=3)\n",
    "#entrenando el modelo\n",
    "predict_svc_linear = model_linear.fit(X_train,y_train);\n",
    "predict_svc_rbf = model_rbf.fit(X_train,y_train);\n",
    "predict_svc_poly = model_poly.fit(X_train,y_train);\n",
    "#realizando la prediccion\n",
    "y_predict_linear  =  predict_svc_linear.predict(X_test)\n",
    "y_predict_rbf  =  predict_svc_rbf.predict(X_test)\n",
    "y_predict_poly  =  predict_svc_poly.predict(X_test)\n"
   ]
  },
  {
   "cell_type": "code",
   "execution_count": 20,
   "metadata": {},
   "outputs": [
    {
     "name": "stdout",
     "output_type": "stream",
     "text": [
      "Datos de Entrenamiento: \n",
      "SVC Score - Linear :  0.989690721649\n",
      "SVC Score - Rbf :  0.979381443299\n",
      "SVC Score - Poly :  0.989690721649\n",
      "====================================================\n",
      "Datos de Testing: \n",
      "SVC Score - Linear :  0.981132075472\n",
      "SVC Score - Rbf :  0.981132075472\n",
      "SVC Score - Poly :  0.962264150943\n"
     ]
    }
   ],
   "source": [
    "print(\"Datos de Entrenamiento: \")\n",
    "print(\"SVC Score - Linear : \",model_linear.score(X_train, y_train))\n",
    "print(\"SVC Score - Rbf : \",model_rbf.score(X_train, y_train))\n",
    "print(\"SVC Score - Poly : \",model_poly.score(X_train, y_train))\n",
    "print(\"====================================================\")\n",
    "print(\"Datos de Testing: \")\n",
    "print(\"SVC Score - Linear : \",model_linear.score(X_test, y_test))\n",
    "print(\"SVC Score - Rbf : \",model_rbf.score(X_test, y_test))\n",
    "print(\"SVC Score - Poly : \",model_poly.score(X_test, y_test))\n"
   ]
  },
  {
   "cell_type": "markdown",
   "metadata": {},
   "source": [
    "Como visualizar los 4 de las caracteristicas del modelo, tomando como referencia la documentacion de sklearn:\n",
    "\n",
    "http://scikit-learn.org/stable/auto_examples/svm/plot_iris.html#sphx-glr-auto-examples-svm-plot-iris-py"
   ]
  },
  {
   "cell_type": "code",
   "execution_count": 21,
   "metadata": {},
   "outputs": [
    {
     "data": {
      "image/png": "[encoded data removed]",
      "text/plain": [
       "<matplotlib.figure.Figure at 0x2d0a9f220b8>"
      ]
     },
     "metadata": {},
     "output_type": "display_data"
    }
   ],
   "source": [
    "import numpy as np\n",
    "import matplotlib.pyplot as plt\n",
    "from sklearn import svm, datasets\n",
    "\n",
    "\n",
    "def make_meshgrid(x, y, h=.02):\n",
    "    \"\"\"Create a mesh of points to plot in\n",
    "\n",
    "    Parameters\n",
    "    ----------\n",
    "    x: data to base x-axis meshgrid on\n",
    "    y: data to base y-axis meshgrid on\n",
    "    h: stepsize for meshgrid, optional\n",
    "\n",
    "    Returns\n",
    "    -------\n",
    "    xx, yy : ndarray\n",
    "    \"\"\"\n",
    "    x_min, x_max = x.min() - 1, x.max() + 1\n",
    "    y_min, y_max = y.min() - 1, y.max() + 1\n",
    "    xx, yy = np.meshgrid(np.arange(x_min, x_max, h),\n",
    "                         np.arange(y_min, y_max, h))\n",
    "    return xx, yy\n",
    "\n",
    "\n",
    "def plot_contours(ax, clf, xx, yy, **params):\n",
    "    \"\"\"Plot the decision boundaries for a classifier.\n",
    "\n",
    "    Parameters\n",
    "    ----------\n",
    "    ax: matplotlib axes object\n",
    "    clf: a classifier\n",
    "    xx: meshgrid ndarray\n",
    "    yy: meshgrid ndarray\n",
    "    params: dictionary of params to pass to contourf, optional\n",
    "    \"\"\"\n",
    "    Z = clf.predict(np.c_[xx.ravel(), yy.ravel()])\n",
    "    Z = Z.reshape(xx.shape)\n",
    "    out = ax.contourf(xx, yy, Z, **params)\n",
    "    return out\n",
    "\n",
    "# import some data to play with\n",
    "iris = datasets.load_iris()\n",
    "# Take the first two features. We could avoid this by using a two-dim dataset\n",
    "X = iris.data[:, :2]\n",
    "y = iris.target\n",
    "\n",
    "# we create an instance of SVM and fit out data. We do not scale our\n",
    "# data since we want to plot the support vectors\n",
    "C = 1.0  # SVM regularization parameter\n",
    "models = (model_linear,\n",
    "          svm.LinearSVC(C=C),\n",
    "          model_rbf,\n",
    "          model_poly)\n",
    "#models = (svm.SVC(kernel='linear', C=C),\n",
    "#          svm.LinearSVC(C=C),\n",
    "#          svm.SVC(kernel='rbf', gamma=0.7, C=C),\n",
    "#          svm.SVC(kernel='poly', degree=3, C=C))\n",
    "\n",
    "models = (clf.fit(X, y) for clf in models)\n",
    "\n",
    "# title for the plots\n",
    "titles = ('SVC con Kernel linear',\n",
    "          'LinearSVC (linear kernel)',\n",
    "          'SVC con Kernel RBF',\n",
    "          'SVC con Kernel polynomial (degree 3)')\n",
    "\n",
    "# Set-up 2x2 grid for plotting.\n",
    "fig, sub = plt.subplots(2, 2)\n",
    "plt.subplots_adjust(wspace=0.4, hspace=0.4)\n",
    "\n",
    "X0, X1 = X[:, 0], X[:, 1]\n",
    "xx, yy = make_meshgrid(X0, X1)\n",
    "\n",
    "for clf, title, ax in zip(models, titles, sub.flatten()):\n",
    "    #print(plt.cm.coolwarm)\n",
    "    plot_contours(ax, clf, xx, yy,\n",
    "                  cmap=plt.cm.coolwarm, alpha=0.8)\n",
    "    ax.scatter(X0, X1, c=y, cmap=plt.cm.coolwarm, s=20, edgecolors='k')\n",
    "    ax.set_xlim(xx.min(), xx.max())\n",
    "    ax.set_ylim(yy.min(), yy.max())\n",
    "    ax.set_xlabel('Sepal length')\n",
    "    ax.set_ylabel('Sepal width')\n",
    "    ax.set_xticks(())\n",
    "    ax.set_yticks(())\n",
    "    ax.set_title(title)\n",
    "plt.show()"
   ]
  },
  {
   "cell_type": "markdown",
   "metadata": {},
   "source": [
    "## 4. Comparar los resultados de los puntos (2) y (3) y dar una opinión sobre qué modelo parece ser más adecuado. \n",
    "\n",
    "Al revisar los valores de los score obtenidos con los datos sin validación cruzada y con validación cruzada, se concluye que el resultado varia.\n",
    "Sin validacion cruzada, tenemos que el mejor resultado es el del modelo linear.\n",
    "Con validacion cruzada, tenemos que el mejor resultado lo tienen el modelo linear y rbf.\n",
    "\n",
    "Entrenar sobre todo el dataset es incorrecto debido a que el modelo cuando se entrene va realizar un overfiting, y para cuando de los resultados con dataset nuevo, va hacer una mala predicción.\n",
    "\n",
    "El modelo SVC pueden especificar diferentes funciones de Kernel para la función de decisión. Se proporcionan kernels comunes, pero también es posible especificar kernels personalizados.\n"
   ]
  },
  {
   "cell_type": "markdown",
   "metadata": {},
   "source": [
    "# Actividad 2"
   ]
  },
  {
   "cell_type": "markdown",
   "metadata": {},
   "source": [
    "## 1: Crear un problema de clasificación utilizando la biblioteca sklearn.datasets, que tenga cinco características, dos de ellas redundantes."
   ]
  },
  {
   "cell_type": "code",
   "execution_count": 22,
   "metadata": {},
   "outputs": [
    {
     "data": {
      "image/png": "[encoded data removed]",
      "text/plain": [
       "<matplotlib.figure.Figure at 0x2d0a8ed5f98>"
      ]
     },
     "metadata": {},
     "output_type": "display_data"
    }
   ],
   "source": [
    "import sklearn\n",
    "from sklearn.datasets import make_classification\n",
    "\n",
    "import matplotlib.pyplot as plt\n",
    "%matplotlib inline\n",
    "#Función de utilidad para dibujar subclases\n",
    "def plot_scatter_classes(X, Y, labels, colors):\n",
    "    C = []\n",
    "    for label in labels:\n",
    "        selection = Y==label\n",
    "        C.append(X[selection])\n",
    "    for idx, subset in enumerate(C):\n",
    "        plt.scatter(subset[:,0], subset[:,1], color=colors[idx], label=labels[idx])\n",
    "    plt.legend()\n",
    "\n",
    "\n",
    "X, Y = sklearn.datasets.make_classification(n_samples = 1000, n_features=5, n_redundant=2, \n",
    "                                            n_informative=3, n_classes=3,\n",
    "                                            n_clusters_per_class=1)\n",
    "\n",
    "plot_scatter_classes(X, Y, [0,1,2], [\"red\", \"blue\", \"green\"])"
   ]
  },
  {
   "cell_type": "markdown",
   "metadata": {},
   "source": [
    "## 2: Utilizar varias configuraciones de un árbol de clasificación para crear un modelo, teniendo en cuenta el número de niveles del árbol (puede encontrarse en la documentación de los parámetros de creación del árbol). Exportar a imagen los árboles resultantes e incluirlos en el Notebook"
   ]
  },
  {
   "cell_type": "markdown",
   "metadata": {},
   "source": [
    "Tomo como referencia la documentacion de la libreria sklearn:\n",
    "\n",
    "http://scikit-learn.org/stable/modules/tree.html#classification"
   ]
  },
  {
   "cell_type": "code",
   "execution_count": 29,
   "metadata": {
    "collapsed": true
   },
   "outputs": [],
   "source": [
    "#importando el modelo\n",
    "from sklearn import tree\n",
    "#instanciando el modelo\n",
    "model = tree.DecisionTreeClassifier(criterion=\"entropy\", max_leaf_nodes=7, random_state=0)\n",
    "#entrenando el modelo\n",
    "predict_decision = model.fit(X,Y);\n",
    "#realizando la prediccion\n",
    "y_predict  =  predict_decision.predict(X)\n"
   ]
  },
  {
   "cell_type": "code",
   "execution_count": 30,
   "metadata": {},
   "outputs": [
    {
     "data": {
      "text/plain": [
       "array([[314,  16,   5],\n",
       "       [ 11, 316,   4],\n",
       "       [  8,  46, 280]], dtype=int64)"
      ]
     },
     "execution_count": 30,
     "metadata": {},
     "output_type": "execute_result"
    }
   ],
   "source": [
    "from sklearn.metrics import confusion_matrix, accuracy_score, precision_score, recall_score\n",
    "\n",
    "confusion_matrix(y_true= Y, y_pred= y_predict)"
   ]
  },
  {
   "cell_type": "code",
   "execution_count": 31,
   "metadata": {},
   "outputs": [
    {
     "data": {
      "text/plain": [
       "0.91000000000000003"
      ]
     },
     "execution_count": 31,
     "metadata": {},
     "output_type": "execute_result"
    }
   ],
   "source": [
    "model.score(X, Y)"
   ]
  },
  {
   "cell_type": "code",
   "execution_count": 32,
   "metadata": {},
   "outputs": [
    {
     "data": {
      "text/plain": [
       "'decision.pdf'"
      ]
     },
     "execution_count": 32,
     "metadata": {},
     "output_type": "execute_result"
    }
   ],
   "source": [
    "import graphviz \n",
    "feature_names=[\"feat1\",\"feat2\",\"feat3\",\"feat4\",\"feat5\"]\n",
    "target_names = [\"Piedra\",\"Papel\",\"Tijera\"]\n",
    "\n",
    "#dot_data = tree.export_graphviz(model, out_file=None) \n",
    "dot_data = tree.export_graphviz(model, out_file=None, \n",
    "                         feature_names=feature_names,  \n",
    "                         class_names=target_names,  \n",
    "                         filled=True, rounded=True,  \n",
    "                         special_characters=True)  \n",
    "\n",
    "graph = graphviz.Source(dot_data) \n",
    "graph.render(\"decision\") "
   ]
  },
  {
   "cell_type": "markdown",
   "metadata": {},
   "source": [
    "![EC2 Logo](images/decisiontree1.png)"
   ]
  },
  {
   "cell_type": "markdown",
   "metadata": {
    "collapsed": true
   },
   "source": [
    "## 3: Evaluar esas configuraciones con y sin validación cruzada, y dar una opinión razonada sobre cuál parece ser mejor modelo. "
   ]
  },
  {
   "cell_type": "code",
   "execution_count": 34,
   "metadata": {},
   "outputs": [
    {
     "data": {
      "image/png": "[encoded data removed]",
      "text/plain": [
       "<matplotlib.figure.Figure at 0x2d0a8a31e10>"
      ]
     },
     "metadata": {},
     "output_type": "display_data"
    }
   ],
   "source": [
    "#from sklearn import cross_validation\n",
    "#X_train, X_test, y_train, y_test = cross_validation.train_test_split(X, Y, test_size=0.3, random_state=0)\n",
    "# cambio de libreria cross_validation por model_selection, debido a que se dejara de usar\n",
    "from sklearn import model_selection\n",
    "X_train, X_test, y_train, y_test = model_selection .train_test_split(X, Y, test_size=0.35, random_state=0)\n",
    "\n",
    "#pintamos la distribucion del dataset de test, para validar que no existan posibles problemas\n",
    "plot_scatter_classes(X_test, y_test, [0,1,2], [\"red\", \"blue\", \"green\"])"
   ]
  },
  {
   "cell_type": "code",
   "execution_count": 35,
   "metadata": {},
   "outputs": [
    {
     "name": "stdout",
     "output_type": "stream",
     "text": [
      "Entrenamiento  0.867692307692  Test:  0.88\n",
      "Entrenamiento  0.887692307692  Test:  0.902857142857\n",
      "Entrenamiento  0.903076923077  Test:  0.92\n",
      "Entrenamiento  0.929230769231  Test:  0.917142857143\n"
     ]
    }
   ],
   "source": [
    "# Entrenamos y evaluamos sobre los conjuntos de prueba:\n",
    "name_models = [\"Arbol Decision 4\", \"Arbol Decision 4\", \"Arbol Decision 4\", \"Arbol Decision 4\"]\n",
    "models = (tree.DecisionTreeClassifier(criterion=\"entropy\", max_leaf_nodes=4, random_state=0),\n",
    "          tree.DecisionTreeClassifier(criterion=\"entropy\", max_leaf_nodes=5, random_state=0),\n",
    "          tree.DecisionTreeClassifier(criterion=\"entropy\", max_leaf_nodes=7, random_state=0),\n",
    "          tree.DecisionTreeClassifier(criterion=\"entropy\", max_leaf_nodes=9, random_state=0))\n",
    "\n",
    "models = (clf.fit(X_train, y_train) for clf in models)\n",
    "\n",
    "for nmodel in models:\n",
    "    print(\"Entrenamiento \", nmodel.score(X_train, y_train), \" Test: \",nmodel.score(X_test, y_test))\n",
    "    "
   ]
  },
  {
   "cell_type": "markdown",
   "metadata": {},
   "source": [
    "### Conclusiones\n",
    "\n",
    "En el caso del score cuando se entrena con todo el modelo da un resultado alto, del 91.0, sin embargo cuando se practica la validacion cruzada, los resultados para el data set de __test__ dan valores bajos a comparacion del entrenamiento. Lo mas importante es los valores que resultan con el Test.\n",
    "\n",
    "Se ha validado con varios niveles de profundidad de arboles para identificar el mejor, y el que da mejores resultados es el de 7 niveles.\n"
   ]
  },
  {
   "cell_type": "markdown",
   "metadata": {
    "collapsed": true
   },
   "source": [
    "## 4: Utilizar un algoritmo de selección de características k-best para tratar de identificar las “mejores” características."
   ]
  },
  {
   "cell_type": "markdown",
   "metadata": {
    "collapsed": true
   },
   "source": [
    "He tomado como referencia la ayuda que ofrece la libreia sklearn :\n",
    "\n",
    "http://scikit-learn.org/stable/modules/feature_selection.html#univariate-feature-selection"
   ]
  },
  {
   "cell_type": "code",
   "execution_count": 36,
   "metadata": {},
   "outputs": [],
   "source": [
    "from sklearn.feature_selection import VarianceThreshold\n",
    "sel = VarianceThreshold(threshold=(.8 * (1 - .8)))\n",
    "nX = sel.fit_transform(X)"
   ]
  },
  {
   "cell_type": "code",
   "execution_count": 37,
   "metadata": {},
   "outputs": [
    {
     "data": {
      "text/plain": [
       "array([[-0.54875301,  0.563444  ,  0.7648976 , -0.49224457, -0.2069152 ],\n",
       "       [-1.64099683,  0.84032167,  0.1143557 , -0.0947059 ,  0.43600383],\n",
       "       [-1.75709833,  0.04740631, -3.13155047,  0.68155165,  2.30168536],\n",
       "       [-0.02565682,  0.46748869,  0.30680055, -1.23664641,  0.06669052],\n",
       "       [ 1.41626889, -0.20248589,  1.02878227, -0.89514076, -0.87122836]])"
      ]
     },
     "execution_count": 37,
     "metadata": {},
     "output_type": "execute_result"
    }
   ],
   "source": [
    "nX[:5]"
   ]
  },
  {
   "cell_type": "code",
   "execution_count": 39,
   "metadata": {},
   "outputs": [
    {
     "name": "stdout",
     "output_type": "stream",
     "text": [
      "(1000, 5)\n",
      "(1000, 3)\n"
     ]
    },
    {
     "data": {
      "text/plain": [
       "array([ True, False,  True, False,  True], dtype=bool)"
      ]
     },
     "execution_count": 39,
     "metadata": {},
     "output_type": "execute_result"
    }
   ],
   "source": [
    "from sklearn.feature_selection import SelectKBest\n",
    "from sklearn.feature_selection import f_classif\n",
    "\n",
    "print(X.shape)\n",
    "\n",
    "tr = SelectKBest(f_classif, k=3)\n",
    "X_new = tr.fit_transform(X, Y)\n",
    "print(X_new.shape)\n",
    "\n",
    "# ¿Qué características se han eliminado? Las marcadas con True en:\n",
    "tr.get_support()"
   ]
  },
  {
   "cell_type": "markdown",
   "metadata": {
    "collapsed": true
   },
   "source": [
    "Se descarta las caracteristicas redundantes."
   ]
  },
  {
   "cell_type": "markdown",
   "metadata": {},
   "source": [
    "## 5: Re-entrenar los modelos con sólo las características seleccionadas, evaluarlas con validación cruzada y comparar los resultados entre los diferentes modelos y con los que se utilizaron sin selección de características."
   ]
  },
  {
   "cell_type": "code",
   "execution_count": 41,
   "metadata": {},
   "outputs": [
    {
     "name": "stdout",
     "output_type": "stream",
     "text": [
      "Evaluación sobre los mismos datos de entrenamiento\n",
      "Entrenamiento  0.867692307692  Test:  0.88\n",
      "Entrenamiento  0.869230769231  Test:  0.882857142857\n",
      "Entrenamiento  0.878461538462  Test:  0.891428571429\n",
      "Entrenamiento  0.903076923077  Test:  0.914285714286\n"
     ]
    }
   ],
   "source": [
    "from sklearn import cross_validation\n",
    "\n",
    "X_train, X_test, y_train, y_test = cross_validation.train_test_split(X_new, Y, test_size=0.35, random_state=0)\n",
    "\n",
    "# Re-entrenamos y evaluamos sobre los conjuntos de prueba:\n",
    "models = (tree.DecisionTreeClassifier(criterion=\"entropy\", max_leaf_nodes=4, random_state=0),\n",
    "          tree.DecisionTreeClassifier(criterion=\"entropy\", max_leaf_nodes=5, random_state=0),\n",
    "          tree.DecisionTreeClassifier(criterion=\"entropy\", max_leaf_nodes=7, random_state=0),\n",
    "          tree.DecisionTreeClassifier(criterion=\"entropy\", max_leaf_nodes=9, random_state=0))\n",
    "\n",
    "models = (clf.fit(X_train, y_train) for clf in models)\n",
    "\n",
    "print(\"Evaluación sobre los mismos datos de entrenamiento\")\n",
    "for nmodel in models:\n",
    "    print(\"Entrenamiento \", nmodel.score(X_train, y_train), \" Test: \",nmodel.score(X_test, y_test))"
   ]
  },
  {
   "cell_type": "markdown",
   "metadata": {
    "collapsed": true
   },
   "source": [
    "### Conclusiones:\n",
    "\n",
    "Es importante en trabajar en una limpieza de datos, el resultado devuelto quitando los variables redundantes son mejores, es preferible utilizar quitando estas variables ya que si bien el resultado con las variables redundantes es mejor, puede que para un dataset en el futuro pueda hacer overfit."
   ]
  },
  {
   "cell_type": "code",
   "execution_count": null,
   "metadata": {
    "collapsed": true
   },
   "outputs": [],
   "source": []
  }
 ],
 "metadata": {
  "kernelspec": {
   "display_name": "Python 3",
   "language": "python",
   "name": "python3"
  },
  "language_info": {
   "codemirror_mode": {
    "name": "ipython",
    "version": 3
   },
   "file_extension": ".py",
   "mimetype": "text/x-python",
   "name": "python",
   "nbconvert_exporter": "python",
   "pygments_lexer": "ipython3",
   "version": "3.6.3"
  }
 },
 "nbformat": 4,
 "nbformat_minor": 2
}
