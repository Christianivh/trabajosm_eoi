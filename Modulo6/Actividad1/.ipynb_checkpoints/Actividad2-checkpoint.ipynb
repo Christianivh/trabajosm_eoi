{
 "cells": [
  {
   "cell_type": "markdown",
   "metadata": {},
   "source": [
    "# Actividad 2"
   ]
  },
  {
   "cell_type": "markdown",
   "metadata": {},
   "source": [
    "## 1:\n",
    "\n",
    "Crear un problema de clasificación utilizando la biblioteca\n",
    "sklearn.datasets, que tenga cinco características, dos de ellas\n",
    "redundantes."
   ]
  },
  {
   "cell_type": "code",
   "execution_count": 6,
   "metadata": {},
   "outputs": [
    {
     "data": {
      "image/png": "[encoded data removed]",
      "text/plain": [
       "<matplotlib.figure.Figure at 0x22dc0b96f98>"
      ]
     },
     "metadata": {},
     "output_type": "display_data"
    }
   ],
   "source": [
    "import sklearn\n",
    "from sklearn.datasets import make_classification\n",
    "\n",
    "import matplotlib.pyplot as plt\n",
    "%matplotlib inline\n",
    "#Función de utilidad para dibujar subclases\n",
    "def plot_scatter_classes(X, Y, labels, colors):\n",
    "    C = []\n",
    "    for label in labels:\n",
    "        selection = Y==label\n",
    "        C.append(X[selection])\n",
    "    for idx, subset in enumerate(C):\n",
    "        plt.scatter(subset[:,0], subset[:,1], color=colors[idx], label=labels[idx])\n",
    "    plt.legend()\n",
    "\n",
    "\n",
    "X, Y = sklearn.datasets.make_classification(n_features=5, n_redundant=2, \n",
    "                                            n_informative=2, n_classes=3,\n",
    "                                            n_clusters_per_class=1)\n",
    "\n",
    "plot_scatter_classes(X, Y, [0,1,2], [\"red\", \"blue\", \"green\"])"
   ]
  },
  {
   "cell_type": "markdown",
   "metadata": {},
   "source": [
    "## 2:\n",
    "Utilizar varias configuraciones de un árbol de clasificación para crear un\n",
    "modelo, teniendo en cuenta el número de niveles del árbol (puede\n",
    "encontrarse en la documentación de los parámetros de creación del\n",
    "árbol). Exportar a imagen los árboles resultantes e incluirlos en el\n",
    "Notebook"
   ]
  },
  {
   "cell_type": "markdown",
   "metadata": {},
   "source": [
    "referencia:\n",
    "http://scikit-learn.org/stable/modules/tree.html#classification"
   ]
  },
  {
   "cell_type": "code",
   "execution_count": 7,
   "metadata": {
    "collapsed": true
   },
   "outputs": [],
   "source": [
    "#importando el modelo\n",
    "from sklearn import tree\n",
    "#instanciando el modelo\n",
    "model = tree.DecisionTreeClassifier(criterion=\"entropy\", max_depth = 7)\n",
    "#entrenando el modelo\n",
    "predict_decision = model.fit(X,Y);\n",
    "#realizando la prediccion\n",
    "y_predict  =  predict_decision.predict(X)\n"
   ]
  },
  {
   "cell_type": "code",
   "execution_count": 8,
   "metadata": {},
   "outputs": [
    {
     "data": {
      "text/plain": [
       "array([[34,  0,  0],\n",
       "       [ 0, 33,  0],\n",
       "       [ 0,  0, 33]], dtype=int64)"
      ]
     },
     "execution_count": 8,
     "metadata": {},
     "output_type": "execute_result"
    }
   ],
   "source": [
    "from sklearn.metrics import confusion_matrix, accuracy_score, precision_score, recall_score\n",
    "\n",
    "confusion_matrix(y_true= Y, y_pred= y_predict)"
   ]
  },
  {
   "cell_type": "code",
   "execution_count": 9,
   "metadata": {},
   "outputs": [
    {
     "data": {
      "text/plain": [
       "1.0"
      ]
     },
     "execution_count": 9,
     "metadata": {},
     "output_type": "execute_result"
    }
   ],
   "source": [
    "model.score(X, Y)"
   ]
  },
  {
   "cell_type": "code",
   "execution_count": 14,
   "metadata": {},
   "outputs": [
    {
     "data": {
      "text/plain": [
       "'decision.pdf'"
      ]
     },
     "execution_count": 14,
     "metadata": {},
     "output_type": "execute_result"
    }
   ],
   "source": [
    "import graphviz \n",
    "feature_names=[\"feat1\",\"feat2\",\"feat3\",\"feat4\",\"feat5\"]\n",
    "target_names = [\"Piedra\",\"Papel\",\"Tijera\"]\n",
    "\n",
    "#dot_data = tree.export_graphviz(model, out_file=None) \n",
    "dot_data = tree.export_graphviz(model, out_file=None, \n",
    "                         feature_names=feature_names,  \n",
    "                         class_names=target_names,  \n",
    "                         filled=True, rounded=True,  \n",
    "                         special_characters=True)  \n",
    "\n",
    "graph = graphviz.Source(dot_data) \n",
    "graph.render(\"decision\") "
   ]
  },
  {
   "cell_type": "markdown",
   "metadata": {},
   "source": [
    "![EC2 Logo](images/decisiontree1.png)"
   ]
  },
  {
   "cell_type": "markdown",
   "metadata": {
    "collapsed": true
   },
   "source": [
    "## 3:\n",
    "Evaluar esas configuraciones con y sin validación cruzada, y dar una\n",
    "opinión razonada sobre cuál parece ser mejor modelo. "
   ]
  },
  {
   "cell_type": "code",
   "execution_count": 15,
   "metadata": {
    "collapsed": true
   },
   "outputs": [],
   "source": [
    "# Lo mismo que hicimos, en el ejemplo del anterior"
   ]
  },
  {
   "cell_type": "markdown",
   "metadata": {
    "collapsed": true
   },
   "source": [
    "## 4:\n",
    "Utilizar un algoritmo de selección de características k-best para tratar de\n",
    "identificar las “mejores” características."
   ]
  },
  {
   "cell_type": "code",
   "execution_count": 18,
   "metadata": {},
   "outputs": [],
   "source": [
    "#no tengo idea"
   ]
  },
  {
   "cell_type": "markdown",
   "metadata": {},
   "source": [
    "referencias:\n",
    "http://scikit-learn.org/stable/modules/feature_selection.html#univariate-feature-selection"
   ]
  },
  {
   "cell_type": "markdown",
   "metadata": {},
   "source": [
    "## 5:\n",
    "Re-entrenar los modelos con sólo las características seleccionadas,\n",
    "evaluarlas con validación cruzada y comparar los resultados entre los\n",
    "diferentes modelos y con los que se utilizaron sin selección de\n",
    "características."
   ]
  },
  {
   "cell_type": "code",
   "execution_count": null,
   "metadata": {
    "collapsed": true
   },
   "outputs": [],
   "source": []
  },
  {
   "cell_type": "code",
   "execution_count": null,
   "metadata": {
    "collapsed": true
   },
   "outputs": [],
   "source": []
  }
 ],
 "metadata": {
  "kernelspec": {
   "display_name": "Python 3",
   "language": "python",
   "name": "python3"
  },
  "language_info": {
   "codemirror_mode": {
    "name": "ipython",
    "version": 3
   },
   "file_extension": ".py",
   "mimetype": "text/x-python",
   "name": "python",
   "nbconvert_exporter": "python",
   "pygments_lexer": "ipython3",
   "version": "3.6.3"
  }
 },
 "nbformat": 4,
 "nbformat_minor": 2
}
