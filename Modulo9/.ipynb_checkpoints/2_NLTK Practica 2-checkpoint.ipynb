{
 "cells": [
  {
   "cell_type": "markdown",
   "metadata": {},
   "source": [
    "# Actividad 2"
   ]
  },
  {
   "cell_type": "code",
   "execution_count": 10,
   "metadata": {},
   "outputs": [
    {
     "name": "stdout",
     "output_type": "stream",
     "text": [
      "Acierto con unigramas: 87.65970871234029\n",
      "Acierto con bigramas: 89.42636311057363\n",
      "Acierto con trigramas: 89.01624691098375\n",
      "Acierto con HMMs: 89.88905831011094\n"
     ]
    }
   ],
   "source": [
    "\n",
    "# 1. Importamos el corpus CESS del español, que es una colección de textos anotados\n",
    "from nltk.corpus import cess_esp\n",
    "\n",
    "\n",
    "# 2. Cargamos todas las frases anotadas del corpus CESS\n",
    "sents = cess_esp.tagged_sents()\n",
    "\n",
    "\n",
    "# 3. Creamos un conjunto de entrenamiento y otro de prueba\n",
    "#Metemos en el conjunto de entrenamiento el 90% de las frases, y el restante 10% en el conjunto de test\n",
    "training = []\n",
    "test = []\n",
    "for i in range(len(sents)):\n",
    "    if i % 10:\n",
    "        training.append(sents[i])\n",
    "    else:\n",
    "        test.append(sents[i])\n",
    "        \n",
    "        \n",
    "# 4. Creamos cuatro tipos distintos de analizadores morfológicos: \n",
    "# - Un tagger basado en unigramas: aprende de la estadística de cada palabra encontrada en el corpus CESS\n",
    "# - Otro basadoen bigramas: aprende de la estadística de una palabra y su palabra anterior\n",
    "# - Otro basado en trigramas: aprende a taggear una palabra basandose en la estadistica de la palabra y sus 2 anteriores\n",
    "# - Otro basado en Modelos Ocultos de Markov (en inglés Hidden Markov Models, HMM): es el modelo mas completo\n",
    "from nltk import UnigramTagger, BigramTagger, TrigramTagger\n",
    "from nltk.tag.hmm import HiddenMarkovModelTagger\n",
    "\n",
    "unigram_tagger = UnigramTagger(training)\n",
    "bigram_tagger = BigramTagger(training, backoff=unigram_tagger)\n",
    "trigram_tagger = TrigramTagger(training, backoff=unigram_tagger)\n",
    "hmm_tagger = HiddenMarkovModelTagger.train(training)\n",
    "\n",
    "\n",
    "\n",
    "# 5. Evaluamos sobre el conjunto de test que no usamos para el entrenamiento, para ver qué porcentaje de acierto hemos conseguido\n",
    "print ('Acierto con unigramas:',unigram_tagger.evaluate(test)*100)\n",
    "print ('Acierto con bigramas:',bigram_tagger.evaluate(test)*100)\n",
    "print ('Acierto con trigramas:',trigram_tagger.evaluate(test)*100)\n",
    "print ('Acierto con HMMs:',hmm_tagger.evaluate(test)*100)\n"
   ]
  },
  {
   "cell_type": "code",
   "execution_count": 12,
   "metadata": {},
   "outputs": [
    {
     "name": "stdout",
     "output_type": "stream",
     "text": [
      "[('Los', 'da0mp0'), ('perros', 'ncmp000'), ('son', 'vsip3p0'), ('buenos', 'aq0mp0'), ('chuchetes', None)]\n"
     ]
    }
   ],
   "source": [
    "# 6. Probamos uno de nuestro taggers\n",
    "import nltk\n",
    "sentence = \"Los perros son buenos chuchetes\"\n",
    "\n",
    "tokens = nltk.word_tokenize(sentence)\n",
    "tagged = trigram_tagger.tag(tokens)\n",
    "\n",
    "print (tagged)"
   ]
  },
  {
   "cell_type": "markdown",
   "metadata": {},
   "source": [
    "## Desarrollo de la actividad 2"
   ]
  },
  {
   "cell_type": "markdown",
   "metadata": {},
   "source": [
    "El alumno en esta práctica, tras jugar un poco con el programa de partida, deberá entrenar un\n",
    "nuevo tagger basado en trigramas, pero para el __catalán__. En principio ya hemos descargado este\n",
    "corpus previamente si ya hemos ejecutado 'nltk.download()' tal y como se indicaba en el documento\n",
    "'Herramientas NLP.pdf', pero si no se ha hecho antes, descárguese el corpus __ cess_cat __ mediante: \n",
    "1. el comando 'nltk.download()' y \n",
    "2. la posterior selección y descarga de ese corpus concreto (se puede descargar todo seleccionando 'all' y así nos aseguramos de que no haya ningún problema)."
   ]
  },
  {
   "cell_type": "markdown",
   "metadata": {},
   "source": [
    "El tagger entrenado (__trigramTagger__) En caso de fallar deberá devolver el resultado de un tagger de\n",
    "bigramas, que a su vez en caso de fallar devolverá uno de unigramas, que a su vez en caso de fallar\n",
    "deberá devolver el resultado de otro tagger. ¿Qué otro tagger? El que el alumno decida que es el\n",
    "más adecuado, tras leer el capitulo 5 del NLTK book http://www.nltk.org/book/ch05.html. En dicho\n",
    "capítulo aparecen mencionadas distintas opciones. A continuación, Introduzca como input del\n",
    "programa una frase en catalán (por ej. usando Google translate) que contenga la palabra 'chuchetes'\n",
    "y comente el resultado: ¿ha variado el tag de __'chuchetes'__ con respecto al que obtuvimos en el\n",
    "ejemplo en castellano?"
   ]
  },
  {
   "cell_type": "code",
   "execution_count": 7,
   "metadata": {},
   "outputs": [
    {
     "name": "stdout",
     "output_type": "stream",
     "text": [
      "Acierto con unigramas: 90.35533992024986\n",
      "Acierto con bigramas: 91.88159264570115\n",
      "Acierto con trigramas: 91.55944921330217\n",
      "Acierto con HMMs: 92.15070026910762\n"
     ]
    }
   ],
   "source": [
    "# 1. Importamos el corpus CESS del español, que es una colección de textos anotados\n",
    "from nltk.corpus import cess_cat\n",
    "\n",
    "\n",
    "# 2. Cargamos todas las frases anotadas del corpus CESS\n",
    "sents = cess_cat.tagged_sents()\n",
    "\n",
    "\n",
    "# 3. Creamos un conjunto de entrenamiento y otro de prueba\n",
    "#Metemos en el conjunto de entrenamiento el 90% de las frases, y el restante 10% en el conjunto de test\n",
    "training = []\n",
    "test = []\n",
    "for i in range(len(sents)):\n",
    "    if i % 10:\n",
    "        training.append(sents[i])\n",
    "    else:\n",
    "        test.append(sents[i])\n",
    "        \n",
    "        \n",
    "# 4. Creamos cuatro tipos distintos de analizadores morfológicos: \n",
    "# - Un tagger basado en unigramas: aprende de la estadística de cada palabra encontrada en el corpus CESS\n",
    "# - Otro basadoen bigramas: aprende de la estadística de una palabra y su palabra anterior\n",
    "# - Otro basado en trigramas: aprende a taggear una palabra basandose en la estadistica de la palabra y sus 2 anteriores\n",
    "# - Otro basado en Modelos Ocultos de Markov (en inglés Hidden Markov Models, HMM): es el modelo mas completo\n",
    "from nltk import UnigramTagger, BigramTagger, TrigramTagger\n",
    "from nltk.tag.hmm import HiddenMarkovModelTagger\n",
    "\n",
    "unigram_tagger = UnigramTagger(training)\n",
    "bigram_tagger = BigramTagger(training, backoff=unigram_tagger)\n",
    "trigram_tagger = TrigramTagger(training, backoff=unigram_tagger)\n",
    "hmm_tagger = HiddenMarkovModelTagger.train(training)\n",
    "\n",
    "\n",
    "\n",
    "# 5. Evaluamos sobre el conjunto de test que no usamos para el entrenamiento, para ver qué porcentaje de acierto hemos conseguido\n",
    "print ('Acierto con unigramas:',unigram_tagger.evaluate(test)*100)\n",
    "print ('Acierto con bigramas:',bigram_tagger.evaluate(test)*100)\n",
    "print ('Acierto con trigramas:',trigram_tagger.evaluate(test)*100)\n",
    "print ('Acierto con HMMs:',hmm_tagger.evaluate(test)*100)\n"
   ]
  },
  {
   "cell_type": "markdown",
   "metadata": {},
   "source": [
    "### Evaluando\n",
    "Los valores del __trigramTagger__ en realidad tiene un buen resultado mayor al anterior evaluando el castellano, revisando el articulo del la ntlk Categorizing and Tagging Words, se pueden identificar palabras que no aparecen y categorizarlas.  "
   ]
  },
  {
   "cell_type": "code",
   "execution_count": 9,
   "metadata": {},
   "outputs": [
    {
     "name": "stdout",
     "output_type": "stream",
     "text": [
      "[('Els', 'da0mp0'), ('gossos', 'ncmp000'), ('són', 'vsip3p0'), ('bons', 'aq0mp0'), ('chuchetes', None)]\n",
      "[('Els', 'da0mp0'), ('gossos', 'ncmp000'), ('són', 'vsip3p0'), ('bons', 'aq0mp0'), ('chuchetes', None)]\n",
      "[('Els', 'da0mp0'), ('gossos', 'ncmp000'), ('són', 'vsip3p0'), ('bons', 'aq0mp0'), ('chuchetes', 'ncmp000')]\n"
     ]
    }
   ],
   "source": [
    "# 6. Probamos uno de nuestro taggers\n",
    "import nltk\n",
    "sentence = \"Els gossos són bons chuchetes\"\n",
    "\n",
    "tokens = nltk.word_tokenize(sentence)\n",
    "tagged = bigram_tagger.tag(tokens)\n",
    "print (tagged)\n",
    "\n",
    "tagged = trigram_tagger.tag(tokens)\n",
    "print (tagged)\n",
    "\n",
    "tagged = hmm_tagger.tag(tokens)\n",
    "print (tagged)"
   ]
  },
  {
   "cell_type": "markdown",
   "metadata": {},
   "source": [
    "Para el caso sin evaluar, el resultado de la palabra __chuchetes__ no varia en comparacion al modelo de castellano anterior, se mantiene."
   ]
  }
 ],
 "metadata": {
  "kernelspec": {
   "display_name": "Python 3",
   "language": "python",
   "name": "python3"
  },
  "language_info": {
   "codemirror_mode": {
    "name": "ipython",
    "version": 3
   },
   "file_extension": ".py",
   "mimetype": "text/x-python",
   "name": "python",
   "nbconvert_exporter": "python",
   "pygments_lexer": "ipython3",
   "version": "3.6.3"
  }
 },
 "nbformat": 4,
 "nbformat_minor": 1
}
